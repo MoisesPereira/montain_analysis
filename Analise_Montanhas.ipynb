{
  "nbformat": 4,
  "nbformat_minor": 0,
  "metadata": {
    "colab": {
      "provenance": []
    },
    "kernelspec": {
      "name": "python3",
      "display_name": "Python 3"
    },
    "language_info": {
      "name": "python"
    }
  },
  "cells": [
    {
      "cell_type": "markdown",
      "source": [
        "Analisar as maiores montanhas do mundo de acordo com dados do Wikipedia\n"
      ],
      "metadata": {
        "id": "bC4jlAW9enIJ"
      }
    },
    {
      "cell_type": "code",
      "source": [
        "import pandas as pd\n",
        "df = pd.read_csv(\"c1_mountains.csv\")"
      ],
      "metadata": {
        "id": "hlBsmUqOeq51"
      },
      "execution_count": 2,
      "outputs": []
    },
    {
      "cell_type": "code",
      "source": [
        "df.head(3)"
      ],
      "metadata": {
        "colab": {
          "base_uri": "https://localhost:8080/",
          "height": 274
        },
        "id": "1QGInlGUesyV",
        "outputId": "07e1a02f-99df-496c-cfac-1e0c99028b5b"
      },
      "execution_count": 3,
      "outputs": [
        {
          "output_type": "execute_result",
          "data": {
            "text/plain": [
              "   Rank                                  Mountain  Height (m)  Height (ft)  \\\n",
              "0     1  Mount Everest / Sagarmatha / Chomolungma        8848        29029   \n",
              "1     2                K2 / Qogir / Godwin Austen        8611        28251   \n",
              "2     3                             Kangchenjunga        8586        28169   \n",
              "\n",
              "   Prominence (m)                   Range              Coordinates  \\\n",
              "0            8848     Mahalangur Himalaya  27°59′17″N 86°55′31″E﻿    \n",
              "1            4017       Baltoro Karakoram  35°52′53″N 76°30′48″E﻿    \n",
              "2            3922  Kangchenjunga Himalaya  27°42′12″N 88°08′51″E﻿    \n",
              "\n",
              "  Parent mountain First ascent Ascents bef. 2004  Failed attempts bef. 2004  \n",
              "0             NaN         1953            >>145                       121.0  \n",
              "1   Mount Everest         1954                45                       44.0  \n",
              "2   Mount Everest         1955                38                       24.0  "
            ],
            "text/html": [
              "\n",
              "  <div id=\"df-56d3c626-6ac4-4ef3-9509-23439f261906\">\n",
              "    <div class=\"colab-df-container\">\n",
              "      <div>\n",
              "<style scoped>\n",
              "    .dataframe tbody tr th:only-of-type {\n",
              "        vertical-align: middle;\n",
              "    }\n",
              "\n",
              "    .dataframe tbody tr th {\n",
              "        vertical-align: top;\n",
              "    }\n",
              "\n",
              "    .dataframe thead th {\n",
              "        text-align: right;\n",
              "    }\n",
              "</style>\n",
              "<table border=\"1\" class=\"dataframe\">\n",
              "  <thead>\n",
              "    <tr style=\"text-align: right;\">\n",
              "      <th></th>\n",
              "      <th>Rank</th>\n",
              "      <th>Mountain</th>\n",
              "      <th>Height (m)</th>\n",
              "      <th>Height (ft)</th>\n",
              "      <th>Prominence (m)</th>\n",
              "      <th>Range</th>\n",
              "      <th>Coordinates</th>\n",
              "      <th>Parent mountain</th>\n",
              "      <th>First ascent</th>\n",
              "      <th>Ascents bef. 2004</th>\n",
              "      <th>Failed attempts bef. 2004</th>\n",
              "    </tr>\n",
              "  </thead>\n",
              "  <tbody>\n",
              "    <tr>\n",
              "      <th>0</th>\n",
              "      <td>1</td>\n",
              "      <td>Mount Everest / Sagarmatha / Chomolungma</td>\n",
              "      <td>8848</td>\n",
              "      <td>29029</td>\n",
              "      <td>8848</td>\n",
              "      <td>Mahalangur Himalaya</td>\n",
              "      <td>27°59′17″N 86°55′31″E﻿</td>\n",
              "      <td>NaN</td>\n",
              "      <td>1953</td>\n",
              "      <td>&gt;&gt;145</td>\n",
              "      <td>121.0</td>\n",
              "    </tr>\n",
              "    <tr>\n",
              "      <th>1</th>\n",
              "      <td>2</td>\n",
              "      <td>K2 / Qogir / Godwin Austen</td>\n",
              "      <td>8611</td>\n",
              "      <td>28251</td>\n",
              "      <td>4017</td>\n",
              "      <td>Baltoro Karakoram</td>\n",
              "      <td>35°52′53″N 76°30′48″E﻿</td>\n",
              "      <td>Mount Everest</td>\n",
              "      <td>1954</td>\n",
              "      <td>45</td>\n",
              "      <td>44.0</td>\n",
              "    </tr>\n",
              "    <tr>\n",
              "      <th>2</th>\n",
              "      <td>3</td>\n",
              "      <td>Kangchenjunga</td>\n",
              "      <td>8586</td>\n",
              "      <td>28169</td>\n",
              "      <td>3922</td>\n",
              "      <td>Kangchenjunga Himalaya</td>\n",
              "      <td>27°42′12″N 88°08′51″E﻿</td>\n",
              "      <td>Mount Everest</td>\n",
              "      <td>1955</td>\n",
              "      <td>38</td>\n",
              "      <td>24.0</td>\n",
              "    </tr>\n",
              "  </tbody>\n",
              "</table>\n",
              "</div>\n",
              "      <button class=\"colab-df-convert\" onclick=\"convertToInteractive('df-56d3c626-6ac4-4ef3-9509-23439f261906')\"\n",
              "              title=\"Convert this dataframe to an interactive table.\"\n",
              "              style=\"display:none;\">\n",
              "        \n",
              "  <svg xmlns=\"http://www.w3.org/2000/svg\" height=\"24px\"viewBox=\"0 0 24 24\"\n",
              "       width=\"24px\">\n",
              "    <path d=\"M0 0h24v24H0V0z\" fill=\"none\"/>\n",
              "    <path d=\"M18.56 5.44l.94 2.06.94-2.06 2.06-.94-2.06-.94-.94-2.06-.94 2.06-2.06.94zm-11 1L8.5 8.5l.94-2.06 2.06-.94-2.06-.94L8.5 2.5l-.94 2.06-2.06.94zm10 10l.94 2.06.94-2.06 2.06-.94-2.06-.94-.94-2.06-.94 2.06-2.06.94z\"/><path d=\"M17.41 7.96l-1.37-1.37c-.4-.4-.92-.59-1.43-.59-.52 0-1.04.2-1.43.59L10.3 9.45l-7.72 7.72c-.78.78-.78 2.05 0 2.83L4 21.41c.39.39.9.59 1.41.59.51 0 1.02-.2 1.41-.59l7.78-7.78 2.81-2.81c.8-.78.8-2.07 0-2.86zM5.41 20L4 18.59l7.72-7.72 1.47 1.35L5.41 20z\"/>\n",
              "  </svg>\n",
              "      </button>\n",
              "      \n",
              "  <style>\n",
              "    .colab-df-container {\n",
              "      display:flex;\n",
              "      flex-wrap:wrap;\n",
              "      gap: 12px;\n",
              "    }\n",
              "\n",
              "    .colab-df-convert {\n",
              "      background-color: #E8F0FE;\n",
              "      border: none;\n",
              "      border-radius: 50%;\n",
              "      cursor: pointer;\n",
              "      display: none;\n",
              "      fill: #1967D2;\n",
              "      height: 32px;\n",
              "      padding: 0 0 0 0;\n",
              "      width: 32px;\n",
              "    }\n",
              "\n",
              "    .colab-df-convert:hover {\n",
              "      background-color: #E2EBFA;\n",
              "      box-shadow: 0px 1px 2px rgba(60, 64, 67, 0.3), 0px 1px 3px 1px rgba(60, 64, 67, 0.15);\n",
              "      fill: #174EA6;\n",
              "    }\n",
              "\n",
              "    [theme=dark] .colab-df-convert {\n",
              "      background-color: #3B4455;\n",
              "      fill: #D2E3FC;\n",
              "    }\n",
              "\n",
              "    [theme=dark] .colab-df-convert:hover {\n",
              "      background-color: #434B5C;\n",
              "      box-shadow: 0px 1px 3px 1px rgba(0, 0, 0, 0.15);\n",
              "      filter: drop-shadow(0px 1px 2px rgba(0, 0, 0, 0.3));\n",
              "      fill: #FFFFFF;\n",
              "    }\n",
              "  </style>\n",
              "\n",
              "      <script>\n",
              "        const buttonEl =\n",
              "          document.querySelector('#df-56d3c626-6ac4-4ef3-9509-23439f261906 button.colab-df-convert');\n",
              "        buttonEl.style.display =\n",
              "          google.colab.kernel.accessAllowed ? 'block' : 'none';\n",
              "\n",
              "        async function convertToInteractive(key) {\n",
              "          const element = document.querySelector('#df-56d3c626-6ac4-4ef3-9509-23439f261906');\n",
              "          const dataTable =\n",
              "            await google.colab.kernel.invokeFunction('convertToInteractive',\n",
              "                                                     [key], {});\n",
              "          if (!dataTable) return;\n",
              "\n",
              "          const docLinkHtml = 'Like what you see? Visit the ' +\n",
              "            '<a target=\"_blank\" href=https://colab.research.google.com/notebooks/data_table.ipynb>data table notebook</a>'\n",
              "            + ' to learn more about interactive tables.';\n",
              "          element.innerHTML = '';\n",
              "          dataTable['output_type'] = 'display_data';\n",
              "          await google.colab.output.renderOutput(dataTable, element);\n",
              "          const docLink = document.createElement('div');\n",
              "          docLink.innerHTML = docLinkHtml;\n",
              "          element.appendChild(docLink);\n",
              "        }\n",
              "      </script>\n",
              "    </div>\n",
              "  </div>\n",
              "  "
            ]
          },
          "metadata": {},
          "execution_count": 3
        }
      ]
    },
    {
      "cell_type": "code",
      "source": [
        "df.set_index(\"Mountain\", inplace=True)"
      ],
      "metadata": {
        "id": "GGaomO23e4dN"
      },
      "execution_count": 4,
      "outputs": []
    },
    {
      "cell_type": "code",
      "source": [
        "df.drop([\"Rank\", \"Height (ft)\", \"Coordinates\", \"Parent mountain\"], axis=1, inplace=True)"
      ],
      "metadata": {
        "id": "simu1y3qe_EW"
      },
      "execution_count": 5,
      "outputs": []
    },
    {
      "cell_type": "code",
      "source": [
        "df.head(3)"
      ],
      "metadata": {
        "colab": {
          "base_uri": "https://localhost:8080/",
          "height": 219
        },
        "id": "p2dOblPzfBum",
        "outputId": "6eb9ab5b-2b49-4e05-d2fd-007519e531c3"
      },
      "execution_count": 6,
      "outputs": [
        {
          "output_type": "execute_result",
          "data": {
            "text/plain": [
              "                                          Height (m)  Prominence (m)  \\\n",
              "Mountain                                                               \n",
              "Mount Everest / Sagarmatha / Chomolungma        8848            8848   \n",
              "K2 / Qogir / Godwin Austen                      8611            4017   \n",
              "Kangchenjunga                                   8586            3922   \n",
              "\n",
              "                                                           Range First ascent  \\\n",
              "Mountain                                                                        \n",
              "Mount Everest / Sagarmatha / Chomolungma     Mahalangur Himalaya         1953   \n",
              "K2 / Qogir / Godwin Austen                     Baltoro Karakoram         1954   \n",
              "Kangchenjunga                             Kangchenjunga Himalaya         1955   \n",
              "\n",
              "                                         Ascents bef. 2004  \\\n",
              "Mountain                                                     \n",
              "Mount Everest / Sagarmatha / Chomolungma            >>145    \n",
              "K2 / Qogir / Godwin Austen                              45   \n",
              "Kangchenjunga                                           38   \n",
              "\n",
              "                                          Failed attempts bef. 2004  \n",
              "Mountain                                                             \n",
              "Mount Everest / Sagarmatha / Chomolungma                      121.0  \n",
              "K2 / Qogir / Godwin Austen                                     44.0  \n",
              "Kangchenjunga                                                  24.0  "
            ],
            "text/html": [
              "\n",
              "  <div id=\"df-8a23e971-ee84-4e67-b87c-c0b1301c7b42\">\n",
              "    <div class=\"colab-df-container\">\n",
              "      <div>\n",
              "<style scoped>\n",
              "    .dataframe tbody tr th:only-of-type {\n",
              "        vertical-align: middle;\n",
              "    }\n",
              "\n",
              "    .dataframe tbody tr th {\n",
              "        vertical-align: top;\n",
              "    }\n",
              "\n",
              "    .dataframe thead th {\n",
              "        text-align: right;\n",
              "    }\n",
              "</style>\n",
              "<table border=\"1\" class=\"dataframe\">\n",
              "  <thead>\n",
              "    <tr style=\"text-align: right;\">\n",
              "      <th></th>\n",
              "      <th>Height (m)</th>\n",
              "      <th>Prominence (m)</th>\n",
              "      <th>Range</th>\n",
              "      <th>First ascent</th>\n",
              "      <th>Ascents bef. 2004</th>\n",
              "      <th>Failed attempts bef. 2004</th>\n",
              "    </tr>\n",
              "    <tr>\n",
              "      <th>Mountain</th>\n",
              "      <th></th>\n",
              "      <th></th>\n",
              "      <th></th>\n",
              "      <th></th>\n",
              "      <th></th>\n",
              "      <th></th>\n",
              "    </tr>\n",
              "  </thead>\n",
              "  <tbody>\n",
              "    <tr>\n",
              "      <th>Mount Everest / Sagarmatha / Chomolungma</th>\n",
              "      <td>8848</td>\n",
              "      <td>8848</td>\n",
              "      <td>Mahalangur Himalaya</td>\n",
              "      <td>1953</td>\n",
              "      <td>&gt;&gt;145</td>\n",
              "      <td>121.0</td>\n",
              "    </tr>\n",
              "    <tr>\n",
              "      <th>K2 / Qogir / Godwin Austen</th>\n",
              "      <td>8611</td>\n",
              "      <td>4017</td>\n",
              "      <td>Baltoro Karakoram</td>\n",
              "      <td>1954</td>\n",
              "      <td>45</td>\n",
              "      <td>44.0</td>\n",
              "    </tr>\n",
              "    <tr>\n",
              "      <th>Kangchenjunga</th>\n",
              "      <td>8586</td>\n",
              "      <td>3922</td>\n",
              "      <td>Kangchenjunga Himalaya</td>\n",
              "      <td>1955</td>\n",
              "      <td>38</td>\n",
              "      <td>24.0</td>\n",
              "    </tr>\n",
              "  </tbody>\n",
              "</table>\n",
              "</div>\n",
              "      <button class=\"colab-df-convert\" onclick=\"convertToInteractive('df-8a23e971-ee84-4e67-b87c-c0b1301c7b42')\"\n",
              "              title=\"Convert this dataframe to an interactive table.\"\n",
              "              style=\"display:none;\">\n",
              "        \n",
              "  <svg xmlns=\"http://www.w3.org/2000/svg\" height=\"24px\"viewBox=\"0 0 24 24\"\n",
              "       width=\"24px\">\n",
              "    <path d=\"M0 0h24v24H0V0z\" fill=\"none\"/>\n",
              "    <path d=\"M18.56 5.44l.94 2.06.94-2.06 2.06-.94-2.06-.94-.94-2.06-.94 2.06-2.06.94zm-11 1L8.5 8.5l.94-2.06 2.06-.94-2.06-.94L8.5 2.5l-.94 2.06-2.06.94zm10 10l.94 2.06.94-2.06 2.06-.94-2.06-.94-.94-2.06-.94 2.06-2.06.94z\"/><path d=\"M17.41 7.96l-1.37-1.37c-.4-.4-.92-.59-1.43-.59-.52 0-1.04.2-1.43.59L10.3 9.45l-7.72 7.72c-.78.78-.78 2.05 0 2.83L4 21.41c.39.39.9.59 1.41.59.51 0 1.02-.2 1.41-.59l7.78-7.78 2.81-2.81c.8-.78.8-2.07 0-2.86zM5.41 20L4 18.59l7.72-7.72 1.47 1.35L5.41 20z\"/>\n",
              "  </svg>\n",
              "      </button>\n",
              "      \n",
              "  <style>\n",
              "    .colab-df-container {\n",
              "      display:flex;\n",
              "      flex-wrap:wrap;\n",
              "      gap: 12px;\n",
              "    }\n",
              "\n",
              "    .colab-df-convert {\n",
              "      background-color: #E8F0FE;\n",
              "      border: none;\n",
              "      border-radius: 50%;\n",
              "      cursor: pointer;\n",
              "      display: none;\n",
              "      fill: #1967D2;\n",
              "      height: 32px;\n",
              "      padding: 0 0 0 0;\n",
              "      width: 32px;\n",
              "    }\n",
              "\n",
              "    .colab-df-convert:hover {\n",
              "      background-color: #E2EBFA;\n",
              "      box-shadow: 0px 1px 2px rgba(60, 64, 67, 0.3), 0px 1px 3px 1px rgba(60, 64, 67, 0.15);\n",
              "      fill: #174EA6;\n",
              "    }\n",
              "\n",
              "    [theme=dark] .colab-df-convert {\n",
              "      background-color: #3B4455;\n",
              "      fill: #D2E3FC;\n",
              "    }\n",
              "\n",
              "    [theme=dark] .colab-df-convert:hover {\n",
              "      background-color: #434B5C;\n",
              "      box-shadow: 0px 1px 3px 1px rgba(0, 0, 0, 0.15);\n",
              "      filter: drop-shadow(0px 1px 2px rgba(0, 0, 0, 0.3));\n",
              "      fill: #FFFFFF;\n",
              "    }\n",
              "  </style>\n",
              "\n",
              "      <script>\n",
              "        const buttonEl =\n",
              "          document.querySelector('#df-8a23e971-ee84-4e67-b87c-c0b1301c7b42 button.colab-df-convert');\n",
              "        buttonEl.style.display =\n",
              "          google.colab.kernel.accessAllowed ? 'block' : 'none';\n",
              "\n",
              "        async function convertToInteractive(key) {\n",
              "          const element = document.querySelector('#df-8a23e971-ee84-4e67-b87c-c0b1301c7b42');\n",
              "          const dataTable =\n",
              "            await google.colab.kernel.invokeFunction('convertToInteractive',\n",
              "                                                     [key], {});\n",
              "          if (!dataTable) return;\n",
              "\n",
              "          const docLinkHtml = 'Like what you see? Visit the ' +\n",
              "            '<a target=\"_blank\" href=https://colab.research.google.com/notebooks/data_table.ipynb>data table notebook</a>'\n",
              "            + ' to learn more about interactive tables.';\n",
              "          element.innerHTML = '';\n",
              "          dataTable['output_type'] = 'display_data';\n",
              "          await google.colab.output.renderOutput(dataTable, element);\n",
              "          const docLink = document.createElement('div');\n",
              "          docLink.innerHTML = docLinkHtml;\n",
              "          element.appendChild(docLink);\n",
              "        }\n",
              "      </script>\n",
              "    </div>\n",
              "  </div>\n",
              "  "
            ]
          },
          "metadata": {},
          "execution_count": 6
        }
      ]
    },
    {
      "cell_type": "code",
      "source": [
        "df.drop([\"Mount Everest / Sagarmatha / Chomolungma\", \"Muztagh Ata\"], axis=0, inplace=True)\n",
        "df.head(3)"
      ],
      "metadata": {
        "colab": {
          "base_uri": "https://localhost:8080/",
          "height": 175
        },
        "id": "zUMgfhHGfDI3",
        "outputId": "9bcfa3c7-f105-480f-86cb-faf90478e580"
      },
      "execution_count": 7,
      "outputs": [
        {
          "output_type": "execute_result",
          "data": {
            "text/plain": [
              "                            Height (m)  Prominence (m)  \\\n",
              "Mountain                                                 \n",
              "K2 / Qogir / Godwin Austen        8611            4017   \n",
              "Kangchenjunga                     8586            3922   \n",
              "Lhotse                            8516             610   \n",
              "\n",
              "                                             Range First ascent  \\\n",
              "Mountain                                                          \n",
              "K2 / Qogir / Godwin Austen       Baltoro Karakoram         1954   \n",
              "Kangchenjunga               Kangchenjunga Himalaya         1955   \n",
              "Lhotse                         Mahalangur Himalaya         1956   \n",
              "\n",
              "                           Ascents bef. 2004  Failed attempts bef. 2004  \n",
              "Mountain                                                                 \n",
              "K2 / Qogir / Godwin Austen                45                       44.0  \n",
              "Kangchenjunga                             38                       24.0  \n",
              "Lhotse                                    26                       26.0  "
            ],
            "text/html": [
              "\n",
              "  <div id=\"df-a64e081c-bff9-465e-b03d-ef723ddddee7\">\n",
              "    <div class=\"colab-df-container\">\n",
              "      <div>\n",
              "<style scoped>\n",
              "    .dataframe tbody tr th:only-of-type {\n",
              "        vertical-align: middle;\n",
              "    }\n",
              "\n",
              "    .dataframe tbody tr th {\n",
              "        vertical-align: top;\n",
              "    }\n",
              "\n",
              "    .dataframe thead th {\n",
              "        text-align: right;\n",
              "    }\n",
              "</style>\n",
              "<table border=\"1\" class=\"dataframe\">\n",
              "  <thead>\n",
              "    <tr style=\"text-align: right;\">\n",
              "      <th></th>\n",
              "      <th>Height (m)</th>\n",
              "      <th>Prominence (m)</th>\n",
              "      <th>Range</th>\n",
              "      <th>First ascent</th>\n",
              "      <th>Ascents bef. 2004</th>\n",
              "      <th>Failed attempts bef. 2004</th>\n",
              "    </tr>\n",
              "    <tr>\n",
              "      <th>Mountain</th>\n",
              "      <th></th>\n",
              "      <th></th>\n",
              "      <th></th>\n",
              "      <th></th>\n",
              "      <th></th>\n",
              "      <th></th>\n",
              "    </tr>\n",
              "  </thead>\n",
              "  <tbody>\n",
              "    <tr>\n",
              "      <th>K2 / Qogir / Godwin Austen</th>\n",
              "      <td>8611</td>\n",
              "      <td>4017</td>\n",
              "      <td>Baltoro Karakoram</td>\n",
              "      <td>1954</td>\n",
              "      <td>45</td>\n",
              "      <td>44.0</td>\n",
              "    </tr>\n",
              "    <tr>\n",
              "      <th>Kangchenjunga</th>\n",
              "      <td>8586</td>\n",
              "      <td>3922</td>\n",
              "      <td>Kangchenjunga Himalaya</td>\n",
              "      <td>1955</td>\n",
              "      <td>38</td>\n",
              "      <td>24.0</td>\n",
              "    </tr>\n",
              "    <tr>\n",
              "      <th>Lhotse</th>\n",
              "      <td>8516</td>\n",
              "      <td>610</td>\n",
              "      <td>Mahalangur Himalaya</td>\n",
              "      <td>1956</td>\n",
              "      <td>26</td>\n",
              "      <td>26.0</td>\n",
              "    </tr>\n",
              "  </tbody>\n",
              "</table>\n",
              "</div>\n",
              "      <button class=\"colab-df-convert\" onclick=\"convertToInteractive('df-a64e081c-bff9-465e-b03d-ef723ddddee7')\"\n",
              "              title=\"Convert this dataframe to an interactive table.\"\n",
              "              style=\"display:none;\">\n",
              "        \n",
              "  <svg xmlns=\"http://www.w3.org/2000/svg\" height=\"24px\"viewBox=\"0 0 24 24\"\n",
              "       width=\"24px\">\n",
              "    <path d=\"M0 0h24v24H0V0z\" fill=\"none\"/>\n",
              "    <path d=\"M18.56 5.44l.94 2.06.94-2.06 2.06-.94-2.06-.94-.94-2.06-.94 2.06-2.06.94zm-11 1L8.5 8.5l.94-2.06 2.06-.94-2.06-.94L8.5 2.5l-.94 2.06-2.06.94zm10 10l.94 2.06.94-2.06 2.06-.94-2.06-.94-.94-2.06-.94 2.06-2.06.94z\"/><path d=\"M17.41 7.96l-1.37-1.37c-.4-.4-.92-.59-1.43-.59-.52 0-1.04.2-1.43.59L10.3 9.45l-7.72 7.72c-.78.78-.78 2.05 0 2.83L4 21.41c.39.39.9.59 1.41.59.51 0 1.02-.2 1.41-.59l7.78-7.78 2.81-2.81c.8-.78.8-2.07 0-2.86zM5.41 20L4 18.59l7.72-7.72 1.47 1.35L5.41 20z\"/>\n",
              "  </svg>\n",
              "      </button>\n",
              "      \n",
              "  <style>\n",
              "    .colab-df-container {\n",
              "      display:flex;\n",
              "      flex-wrap:wrap;\n",
              "      gap: 12px;\n",
              "    }\n",
              "\n",
              "    .colab-df-convert {\n",
              "      background-color: #E8F0FE;\n",
              "      border: none;\n",
              "      border-radius: 50%;\n",
              "      cursor: pointer;\n",
              "      display: none;\n",
              "      fill: #1967D2;\n",
              "      height: 32px;\n",
              "      padding: 0 0 0 0;\n",
              "      width: 32px;\n",
              "    }\n",
              "\n",
              "    .colab-df-convert:hover {\n",
              "      background-color: #E2EBFA;\n",
              "      box-shadow: 0px 1px 2px rgba(60, 64, 67, 0.3), 0px 1px 3px 1px rgba(60, 64, 67, 0.15);\n",
              "      fill: #174EA6;\n",
              "    }\n",
              "\n",
              "    [theme=dark] .colab-df-convert {\n",
              "      background-color: #3B4455;\n",
              "      fill: #D2E3FC;\n",
              "    }\n",
              "\n",
              "    [theme=dark] .colab-df-convert:hover {\n",
              "      background-color: #434B5C;\n",
              "      box-shadow: 0px 1px 3px 1px rgba(0, 0, 0, 0.15);\n",
              "      filter: drop-shadow(0px 1px 2px rgba(0, 0, 0, 0.3));\n",
              "      fill: #FFFFFF;\n",
              "    }\n",
              "  </style>\n",
              "\n",
              "      <script>\n",
              "        const buttonEl =\n",
              "          document.querySelector('#df-a64e081c-bff9-465e-b03d-ef723ddddee7 button.colab-df-convert');\n",
              "        buttonEl.style.display =\n",
              "          google.colab.kernel.accessAllowed ? 'block' : 'none';\n",
              "\n",
              "        async function convertToInteractive(key) {\n",
              "          const element = document.querySelector('#df-a64e081c-bff9-465e-b03d-ef723ddddee7');\n",
              "          const dataTable =\n",
              "            await google.colab.kernel.invokeFunction('convertToInteractive',\n",
              "                                                     [key], {});\n",
              "          if (!dataTable) return;\n",
              "\n",
              "          const docLinkHtml = 'Like what you see? Visit the ' +\n",
              "            '<a target=\"_blank\" href=https://colab.research.google.com/notebooks/data_table.ipynb>data table notebook</a>'\n",
              "            + ' to learn more about interactive tables.';\n",
              "          element.innerHTML = '';\n",
              "          dataTable['output_type'] = 'display_data';\n",
              "          await google.colab.output.renderOutput(dataTable, element);\n",
              "          const docLink = document.createElement('div');\n",
              "          docLink.innerHTML = docLinkHtml;\n",
              "          element.appendChild(docLink);\n",
              "        }\n",
              "      </script>\n",
              "    </div>\n",
              "  </div>\n",
              "  "
            ]
          },
          "metadata": {},
          "execution_count": 7
        }
      ]
    },
    {
      "cell_type": "code",
      "source": [
        "df.info()"
      ],
      "metadata": {
        "colab": {
          "base_uri": "https://localhost:8080/"
        },
        "id": "fd4g0JFHfGe3",
        "outputId": "c2228459-ecee-4e80-f172-4876c1592a54"
      },
      "execution_count": 8,
      "outputs": [
        {
          "output_type": "stream",
          "name": "stdout",
          "text": [
            "<class 'pandas.core.frame.DataFrame'>\n",
            "Index: 116 entries, K2 / Qogir / Godwin Austen to Lupghar Sar\n",
            "Data columns (total 6 columns):\n",
            " #   Column                     Non-Null Count  Dtype  \n",
            "---  ------                     --------------  -----  \n",
            " 0   Height (m)                 116 non-null    int64  \n",
            " 1   Prominence (m)             116 non-null    int64  \n",
            " 2   Range                      116 non-null    object \n",
            " 3   First ascent               116 non-null    object \n",
            " 4   Ascents bef. 2004          114 non-null    object \n",
            " 5   Failed attempts bef. 2004  114 non-null    float64\n",
            "dtypes: float64(1), int64(2), object(3)\n",
            "memory usage: 6.3+ KB\n"
          ]
        }
      ]
    },
    {
      "cell_type": "code",
      "source": [
        "df.dropna(inplace=True)"
      ],
      "metadata": {
        "id": "ctpN5f-ijpcO"
      },
      "execution_count": 10,
      "outputs": []
    },
    {
      "cell_type": "markdown",
      "source": [
        "Analisando os Dados"
      ],
      "metadata": {
        "id": "MzKf7tPAj0n7"
      }
    },
    {
      "cell_type": "code",
      "source": [
        "df = pd.read_csv(\"Mountains_Cleaned.csv\")"
      ],
      "metadata": {
        "id": "-8YPLJHdjwZF"
      },
      "execution_count": 11,
      "outputs": []
    },
    {
      "cell_type": "code",
      "source": [
        "df[\"Total attempts\"] = df[\"Ascents bef. 2004\"] + df[\"Failed attempts bef. 2004\"]"
      ],
      "metadata": {
        "id": "RyKTGO6jj6NO"
      },
      "execution_count": 12,
      "outputs": []
    },
    {
      "cell_type": "code",
      "source": [
        "df[\"Success rate\"] = (df[\"Ascents bef. 2004\"] / df[\"Total attempts\"]) * 100"
      ],
      "metadata": {
        "id": "evtMt1Q7j8GG"
      },
      "execution_count": 13,
      "outputs": []
    },
    {
      "cell_type": "code",
      "source": [
        "df[\"Difficulty\"] = (df[\"Total attempts\"] / df[\"Success rate\"]) *100"
      ],
      "metadata": {
        "id": "Aggbr51SkAcG"
      },
      "execution_count": 14,
      "outputs": []
    },
    {
      "cell_type": "code",
      "source": [
        "df[\"Difficulty\"] = df[\"Difficulty\"] / df[\"Difficulty\"].max()"
      ],
      "metadata": {
        "id": "mESG45STkCUG"
      },
      "execution_count": 15,
      "outputs": []
    },
    {
      "cell_type": "code",
      "source": [
        "df = df.sort_values(by=\"Difficulty\", ascending=False)"
      ],
      "metadata": {
        "id": "mospYr-UkHYV"
      },
      "execution_count": 16,
      "outputs": []
    },
    {
      "cell_type": "code",
      "source": [
        "df.head()"
      ],
      "metadata": {
        "colab": {
          "base_uri": "https://localhost:8080/",
          "height": 337
        },
        "id": "WjXoJ0v_kJa1",
        "outputId": "3305be90-b5b0-49df-8db5-2ab3455a33d9"
      },
      "execution_count": 17,
      "outputs": [
        {
          "output_type": "execute_result",
          "data": {
            "text/plain": [
              "                     Mountain  Height (m)  Prominence (m)  \\\n",
              "7                Nanga Parbat        8126            4608   \n",
              "3                      Makalu        8485            2386   \n",
              "8                 Annapurna I        8091            2984   \n",
              "6                     Manaslu        8163            3092   \n",
              "0  K2 / Qogir / Godwin Austen        8611            4017   \n",
              "\n",
              "                   Range  First ascent  Ascents bef. 2004  \\\n",
              "7  Nanga Parbat Himalaya          1953                 52   \n",
              "3    Mahalangur Himalaya          1955                 45   \n",
              "8     Annapurna Himalaya          1950                 36   \n",
              "6       Manaslu Himalaya          1956                 49   \n",
              "0      Baltoro Karakoram          1954                 45   \n",
              "\n",
              "   Failed attempts bef. 2004  Total attempts  Success rate  Difficulty  \n",
              "7                         67             119     43.697479    1.000000  \n",
              "3                         52              97     46.391753    0.767786  \n",
              "8                         47              83     43.373494    0.702689  \n",
              "6                         45              94     52.127660    0.662169  \n",
              "0                         44              89     50.561798    0.646364  "
            ],
            "text/html": [
              "\n",
              "  <div id=\"df-470cd5ac-4522-4657-b9eb-ebcb0b5e1586\">\n",
              "    <div class=\"colab-df-container\">\n",
              "      <div>\n",
              "<style scoped>\n",
              "    .dataframe tbody tr th:only-of-type {\n",
              "        vertical-align: middle;\n",
              "    }\n",
              "\n",
              "    .dataframe tbody tr th {\n",
              "        vertical-align: top;\n",
              "    }\n",
              "\n",
              "    .dataframe thead th {\n",
              "        text-align: right;\n",
              "    }\n",
              "</style>\n",
              "<table border=\"1\" class=\"dataframe\">\n",
              "  <thead>\n",
              "    <tr style=\"text-align: right;\">\n",
              "      <th></th>\n",
              "      <th>Mountain</th>\n",
              "      <th>Height (m)</th>\n",
              "      <th>Prominence (m)</th>\n",
              "      <th>Range</th>\n",
              "      <th>First ascent</th>\n",
              "      <th>Ascents bef. 2004</th>\n",
              "      <th>Failed attempts bef. 2004</th>\n",
              "      <th>Total attempts</th>\n",
              "      <th>Success rate</th>\n",
              "      <th>Difficulty</th>\n",
              "    </tr>\n",
              "  </thead>\n",
              "  <tbody>\n",
              "    <tr>\n",
              "      <th>7</th>\n",
              "      <td>Nanga Parbat</td>\n",
              "      <td>8126</td>\n",
              "      <td>4608</td>\n",
              "      <td>Nanga Parbat Himalaya</td>\n",
              "      <td>1953</td>\n",
              "      <td>52</td>\n",
              "      <td>67</td>\n",
              "      <td>119</td>\n",
              "      <td>43.697479</td>\n",
              "      <td>1.000000</td>\n",
              "    </tr>\n",
              "    <tr>\n",
              "      <th>3</th>\n",
              "      <td>Makalu</td>\n",
              "      <td>8485</td>\n",
              "      <td>2386</td>\n",
              "      <td>Mahalangur Himalaya</td>\n",
              "      <td>1955</td>\n",
              "      <td>45</td>\n",
              "      <td>52</td>\n",
              "      <td>97</td>\n",
              "      <td>46.391753</td>\n",
              "      <td>0.767786</td>\n",
              "    </tr>\n",
              "    <tr>\n",
              "      <th>8</th>\n",
              "      <td>Annapurna I</td>\n",
              "      <td>8091</td>\n",
              "      <td>2984</td>\n",
              "      <td>Annapurna Himalaya</td>\n",
              "      <td>1950</td>\n",
              "      <td>36</td>\n",
              "      <td>47</td>\n",
              "      <td>83</td>\n",
              "      <td>43.373494</td>\n",
              "      <td>0.702689</td>\n",
              "    </tr>\n",
              "    <tr>\n",
              "      <th>6</th>\n",
              "      <td>Manaslu</td>\n",
              "      <td>8163</td>\n",
              "      <td>3092</td>\n",
              "      <td>Manaslu Himalaya</td>\n",
              "      <td>1956</td>\n",
              "      <td>49</td>\n",
              "      <td>45</td>\n",
              "      <td>94</td>\n",
              "      <td>52.127660</td>\n",
              "      <td>0.662169</td>\n",
              "    </tr>\n",
              "    <tr>\n",
              "      <th>0</th>\n",
              "      <td>K2 / Qogir / Godwin Austen</td>\n",
              "      <td>8611</td>\n",
              "      <td>4017</td>\n",
              "      <td>Baltoro Karakoram</td>\n",
              "      <td>1954</td>\n",
              "      <td>45</td>\n",
              "      <td>44</td>\n",
              "      <td>89</td>\n",
              "      <td>50.561798</td>\n",
              "      <td>0.646364</td>\n",
              "    </tr>\n",
              "  </tbody>\n",
              "</table>\n",
              "</div>\n",
              "      <button class=\"colab-df-convert\" onclick=\"convertToInteractive('df-470cd5ac-4522-4657-b9eb-ebcb0b5e1586')\"\n",
              "              title=\"Convert this dataframe to an interactive table.\"\n",
              "              style=\"display:none;\">\n",
              "        \n",
              "  <svg xmlns=\"http://www.w3.org/2000/svg\" height=\"24px\"viewBox=\"0 0 24 24\"\n",
              "       width=\"24px\">\n",
              "    <path d=\"M0 0h24v24H0V0z\" fill=\"none\"/>\n",
              "    <path d=\"M18.56 5.44l.94 2.06.94-2.06 2.06-.94-2.06-.94-.94-2.06-.94 2.06-2.06.94zm-11 1L8.5 8.5l.94-2.06 2.06-.94-2.06-.94L8.5 2.5l-.94 2.06-2.06.94zm10 10l.94 2.06.94-2.06 2.06-.94-2.06-.94-.94-2.06-.94 2.06-2.06.94z\"/><path d=\"M17.41 7.96l-1.37-1.37c-.4-.4-.92-.59-1.43-.59-.52 0-1.04.2-1.43.59L10.3 9.45l-7.72 7.72c-.78.78-.78 2.05 0 2.83L4 21.41c.39.39.9.59 1.41.59.51 0 1.02-.2 1.41-.59l7.78-7.78 2.81-2.81c.8-.78.8-2.07 0-2.86zM5.41 20L4 18.59l7.72-7.72 1.47 1.35L5.41 20z\"/>\n",
              "  </svg>\n",
              "      </button>\n",
              "      \n",
              "  <style>\n",
              "    .colab-df-container {\n",
              "      display:flex;\n",
              "      flex-wrap:wrap;\n",
              "      gap: 12px;\n",
              "    }\n",
              "\n",
              "    .colab-df-convert {\n",
              "      background-color: #E8F0FE;\n",
              "      border: none;\n",
              "      border-radius: 50%;\n",
              "      cursor: pointer;\n",
              "      display: none;\n",
              "      fill: #1967D2;\n",
              "      height: 32px;\n",
              "      padding: 0 0 0 0;\n",
              "      width: 32px;\n",
              "    }\n",
              "\n",
              "    .colab-df-convert:hover {\n",
              "      background-color: #E2EBFA;\n",
              "      box-shadow: 0px 1px 2px rgba(60, 64, 67, 0.3), 0px 1px 3px 1px rgba(60, 64, 67, 0.15);\n",
              "      fill: #174EA6;\n",
              "    }\n",
              "\n",
              "    [theme=dark] .colab-df-convert {\n",
              "      background-color: #3B4455;\n",
              "      fill: #D2E3FC;\n",
              "    }\n",
              "\n",
              "    [theme=dark] .colab-df-convert:hover {\n",
              "      background-color: #434B5C;\n",
              "      box-shadow: 0px 1px 3px 1px rgba(0, 0, 0, 0.15);\n",
              "      filter: drop-shadow(0px 1px 2px rgba(0, 0, 0, 0.3));\n",
              "      fill: #FFFFFF;\n",
              "    }\n",
              "  </style>\n",
              "\n",
              "      <script>\n",
              "        const buttonEl =\n",
              "          document.querySelector('#df-470cd5ac-4522-4657-b9eb-ebcb0b5e1586 button.colab-df-convert');\n",
              "        buttonEl.style.display =\n",
              "          google.colab.kernel.accessAllowed ? 'block' : 'none';\n",
              "\n",
              "        async function convertToInteractive(key) {\n",
              "          const element = document.querySelector('#df-470cd5ac-4522-4657-b9eb-ebcb0b5e1586');\n",
              "          const dataTable =\n",
              "            await google.colab.kernel.invokeFunction('convertToInteractive',\n",
              "                                                     [key], {});\n",
              "          if (!dataTable) return;\n",
              "\n",
              "          const docLinkHtml = 'Like what you see? Visit the ' +\n",
              "            '<a target=\"_blank\" href=https://colab.research.google.com/notebooks/data_table.ipynb>data table notebook</a>'\n",
              "            + ' to learn more about interactive tables.';\n",
              "          element.innerHTML = '';\n",
              "          dataTable['output_type'] = 'display_data';\n",
              "          await google.colab.output.renderOutput(dataTable, element);\n",
              "          const docLink = document.createElement('div');\n",
              "          docLink.innerHTML = docLinkHtml;\n",
              "          element.appendChild(docLink);\n",
              "        }\n",
              "      </script>\n",
              "    </div>\n",
              "  </div>\n",
              "  "
            ]
          },
          "metadata": {},
          "execution_count": 17
        }
      ]
    },
    {
      "cell_type": "markdown",
      "source": [
        "Analisar com Bar Plots"
      ],
      "metadata": {
        "id": "smup2cs3kOPw"
      }
    },
    {
      "cell_type": "code",
      "source": [
        "import matplotlib.pyplot as plt\n",
        "\n",
        "df = df.reset_index().set_index(\"Mountain\")\n",
        "values = df[0:10][\"Difficulty\"]\n",
        "bar_plot = values.plot.barh()\n",
        "\n",
        "#add titles to the plot\n",
        "bar_plot.set_title(\"The 10 most difficult mountains\")\n",
        "bar_plot.set_xlabel(\"Difficulty\")\n",
        "plt.show()"
      ],
      "metadata": {
        "colab": {
          "base_uri": "https://localhost:8080/",
          "height": 472
        },
        "id": "FzQvzHldkKp1",
        "outputId": "fb00a53b-f208-4bf8-941c-2b8cd3ac125b"
      },
      "execution_count": 18,
      "outputs": [
        {
          "output_type": "display_data",
          "data": {
            "text/plain": [
              "<Figure size 640x480 with 1 Axes>"
            ],
            "image/png": "[encoded data removed]"
          },
          "metadata": {}
        }
      ]
    },
    {
      "cell_type": "code",
      "source": [
        "#add colors\n",
        "colormap = plt.cm.tab10(range(0, len(values)))\n",
        "bar_plot = values.plot.barh(color=colormap)\n",
        "\n",
        "#add titles to the plot\n",
        "bar_plot.set_title(\"The 10 most difficult mountains\")\n",
        "bar_plot.set_xlabel(\"Difficulty\")\n",
        "\n",
        "#to show the most difficult in the top\n",
        "bar_plot.invert_yaxis()\n",
        "plt.show()"
      ],
      "metadata": {
        "colab": {
          "base_uri": "https://localhost:8080/",
          "height": 472
        },
        "id": "mQsh8-zWkTx-",
        "outputId": "70e20dbd-c67c-4895-b585-1dcbd8883e04"
      },
      "execution_count": 19,
      "outputs": [
        {
          "output_type": "display_data",
          "data": {
            "text/plain": [
              "<Figure size 640x480 with 1 Axes>"
            ],
            "image/png": "[encoded data removed]"
          },
          "metadata": {}
        }
      ]
    },
    {
      "cell_type": "markdown",
      "source": [
        "Histogramas"
      ],
      "metadata": {
        "id": "B9egJ39skh-i"
      }
    },
    {
      "cell_type": "code",
      "source": [
        "df[\"First ascent\"].plot.hist()\n",
        "plt.show()"
      ],
      "metadata": {
        "colab": {
          "base_uri": "https://localhost:8080/",
          "height": 430
        },
        "id": "91jwHFMkkc0O",
        "outputId": "d39c86f5-7032-4b46-d8d9-610c5f89c3f4"
      },
      "execution_count": 20,
      "outputs": [
        {
          "output_type": "display_data",
          "data": {
            "text/plain": [
              "<Figure size 640x480 with 1 Axes>"
            ],
            "image/png": "[encoded data removed]"
          },
          "metadata": {}
        }
      ]
    },
    {
      "cell_type": "code",
      "source": [
        "hist = df[\"First ascent\"].plot.hist(bins=20, color=\"orange\", edgecolor=\"black\")\n",
        "hist.set_xlabel(\"Year\")\n",
        "hist.set_ylabel(\"Number of first ascents\")\n",
        "hist.set_title(\"Popular years for climbing\")\n",
        "plt.show()"
      ],
      "metadata": {
        "colab": {
          "base_uri": "https://localhost:8080/",
          "height": 472
        },
        "id": "uJdMD8kFkli9",
        "outputId": "31d81e9a-d01a-41dd-dad6-5421b550a786"
      },
      "execution_count": 21,
      "outputs": [
        {
          "output_type": "display_data",
          "data": {
            "text/plain": [
              "<Figure size 640x480 with 1 Axes>"
            ],
            "image/png": "[encoded data removed]"
          },
          "metadata": {}
        }
      ]
    },
    {
      "cell_type": "code",
      "source": [
        "high = df[\"Height (m)\"]>8000\n",
        "plt.hist(\n",
        "    [df.loc[high,\"First ascent\"],df.loc[~high,\"First ascent\"]],\n",
        "    stacked=True,\n",
        "    edgecolor=\"black\",\n",
        ")\n",
        "plt.legend([\"over 8000m\", \"under 8000m\"], loc=\"upper right\")\n",
        "plt.xlabel(\"Year\")\n",
        "plt.ylabel(\"Number of first ascents\")\n",
        "plt.title(\"Year of first ascent\")\n",
        "plt.show()"
      ],
      "metadata": {
        "colab": {
          "base_uri": "https://localhost:8080/",
          "height": 472
        },
        "id": "BpNQVWmHkneF",
        "outputId": "3bdfdba4-0116-4935-b602-774a433caf3e"
      },
      "execution_count": 22,
      "outputs": [
        {
          "output_type": "display_data",
          "data": {
            "text/plain": [
              "<Figure size 640x480 with 1 Axes>"
            ],
            "image/png": "[encoded data removed]"
          },
          "metadata": {}
        }
      ]
    },
    {
      "cell_type": "markdown",
      "source": [
        "Scatterplots"
      ],
      "metadata": {
        "id": "zgyA84fkku1U"
      }
    },
    {
      "cell_type": "code",
      "source": [
        "plt.scatter(df[\"Height (m)\"], df[\"Total attempts\"], color=\"red\", edgecolor=\"black\")\n",
        "plt.ylabel(\"Total attempts\")\n",
        "plt.xlabel(\"Mountain height\")\n",
        "plt.title(\"Number of total attempts vs mountain height\", fontsize=14)\n",
        "plt.show()"
      ],
      "metadata": {
        "colab": {
          "base_uri": "https://localhost:8080/",
          "height": 473
        },
        "id": "tUJFjHTmkrNV",
        "outputId": "108f6a11-7fd2-46f5-9990-df0320f2cd86"
      },
      "execution_count": 23,
      "outputs": [
        {
          "output_type": "display_data",
          "data": {
            "text/plain": [
              "<Figure size 640x480 with 1 Axes>"
            ],
            "image/png": "[encoded data removed]"
          },
          "metadata": {}
        }
      ]
    },
    {
      "cell_type": "code",
      "source": [],
      "metadata": {
        "id": "WSxv5iIHkxR1"
      },
      "execution_count": null,
      "outputs": []
    }
  ]
}